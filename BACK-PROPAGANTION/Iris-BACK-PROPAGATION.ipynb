{
 "cells": [
  {
   "cell_type": "markdown",
   "id": "ef2cafa5",
   "metadata": {},
   "source": [
    "##### Binary encoding"
   ]
  },
  {
   "cell_type": "code",
   "execution_count": 1,
   "id": "2de4d5b8",
   "metadata": {},
   "outputs": [],
   "source": [
    "def bin_enc(lbl):\n",
    "    mi = min(lbl)\n",
    "    length = len(bin(max(lbl)-mi+1)[2:])\n",
    "    enc=[]\n",
    "    for i in lbl:\n",
    "        b=bin(i-mi)[2:].zfill(length)\n",
    "        enc.append([int(n) for n in b])\n",
    "        return enc\n",
    "\n",
    "def bin_dec(enc, mi=0):\n",
    "    lbl=[]\n",
    "    for e in enc:\n",
    "        rounded=[int(round(x)) for x in e] \n",
    "        string= ''.join(str(x) for x in rounded)\n",
    "        num=int(string,2) + mi\n",
    "        lbl.append(num)\n",
    "    return lbl"
   ]
  },
  {
   "cell_type": "markdown",
   "id": "eace0826",
   "metadata": {},
   "source": [
    "##### One-hot encoding"
   ]
  },
  {
   "cell_type": "code",
   "execution_count": 2,
   "id": "cf84591b",
   "metadata": {},
   "outputs": [],
   "source": [
    "def onehot_enc(lbl, min_val=0):\n",
    "    mi=min(lbl)\n",
    "    enc=np.full((len(lbl),max(lbl)-mi+1), min_val, np.int8)\n",
    "    \n",
    "    for i, x in enumerate(lbl):\n",
    "        enc[i, x-mi]=1\n",
    "    return enc\n",
    "\n",
    "def onehot_dec(enc, mi=0):\n",
    "    return [np.argmax(e)+mi for e in enc]"
   ]
  },
  {
   "cell_type": "markdown",
   "id": "38195eb9",
   "metadata": {},
   "source": [
    "##### Fungsi aktivasi dan turunannya"
   ]
  },
  {
   "cell_type": "code",
   "execution_count": 3,
   "id": "7b13c362",
   "metadata": {},
   "outputs": [],
   "source": [
    "# Fungsi aktivasi sigmoid dan turunannya\n",
    "def sig(X):\n",
    "    return [1/(1+np.exp(-x)) for x in X]\n",
    "\n",
    "def sigd(X):\n",
    "    output=[]\n",
    "    for i, x in enumerate(X):\n",
    "        s = sig([x])[0]\n",
    "        output.append(s*(1-s))\n",
    "    return output"
   ]
  },
  {
   "cell_type": "markdown",
   "id": "5e75e747",
   "metadata": {},
   "source": [
    "##### Fungsi modeling (training) backpropagation"
   ]
  },
  {
   "cell_type": "code",
   "execution_count": 4,
   "id": "35c69d12",
   "metadata": {},
   "outputs": [],
   "source": [
    "def bp_fit(X, target, layer_conf, max_epoch, max_error=.1, learn_rate=.1, \n",
    "           print_per_epoch=100): \n",
    "    nin=[np.empty(i) for i in layer_conf]\n",
    "    n = [np.empty(j+1) if i<len(layer_conf)-1 \n",
    "         else np.empty(j) for i, j in enumerate(layer_conf)]\n",
    "    w = np.array([np.random.rand(layer_conf[i]+1, layer_conf[i+1])\n",
    "        for i in range(len(layer_conf)-1)]) \n",
    "    dw = [np.empty((layer_conf[i]+1, layer_conf[i+1])) \n",
    "        for i in range(len(layer_conf)-1)] \n",
    "    d = [np.empty(s) for s in layer_conf[1:]] \n",
    "    din = [np.empty(s) for s in layer_conf[1:-1]] \n",
    "    epoch = 0 \n",
    "    mse = 1\n",
    "    for i in range(0, len(n)-1): \n",
    "        n[i][-1]=1 \n",
    "    while (max_epoch == -1 or epoch<max_epoch) and mse>max_error:\n",
    "        epoch +=1 \n",
    "        mse = 0 \n",
    "        \n",
    "        for r in range(len(X)): \n",
    "            n[0][:-1]=X[r]\n",
    "            \n",
    "            for L in range(1, len(layer_conf)):\n",
    "                nin[L] = np.dot(n[L-1], w[L-1]) \n",
    "                n[L][:len(nin[L])]=sig(nin[L]) \n",
    "                \n",
    "            e = target[r] - n[-1] \n",
    "            mse += sum(e ** 2) \n",
    "            d[-1]=e*sigd(nin[-1]) \n",
    "            dw[-1]=learn_rate * d[-1]*n[-2].reshape((-1,1)) \n",
    "            \n",
    "            for L in range(len(layer_conf)-1, 1, -1): \n",
    "                din[L-2]=np.dot(d[L-1], np.transpose(w[L-1][:-1])) \n",
    "                d[L-2]=din[L-2]*np.array(sigd(nin[L-1])) \n",
    "                dw[L-2]=(learn_rate*d[L-2])*n[L-2].reshape((-1,1)) \n",
    "            w += dw \n",
    "        mse /= len(X) \n",
    "        if print_per_epoch > -1 and epoch % print_per_epoch == 0: \n",
    "            print(f'Epoch {epoch}, MSE: {mse}') \n",
    "        return w, epoch, mse"
   ]
  },
  {
   "cell_type": "markdown",
   "id": "95b89795",
   "metadata": {},
   "source": [
    "##### Fungsi pengujian backpropagation"
   ]
  },
  {
   "cell_type": "code",
   "execution_count": 5,
   "id": "4aee90a9",
   "metadata": {},
   "outputs": [],
   "source": [
    "def bp_predict(X,w): \n",
    "    n=[np.empty(len(i)) for i in w] \n",
    "    nin=[np.empty(len(i[0])) for i in w] \n",
    "    predict = [] \n",
    "    \n",
    "    n.append(np.empty(len(w[-1][0]))) \n",
    "    \n",
    "    for x in X: \n",
    "        n[0][:-1]=x \n",
    "        \n",
    "        for L in range(0, len(w)):\n",
    "            nin[L] = np.dot(n[L], w[L]) \n",
    "            n[L+1][:len(nin[L])] = sig(nin[L]) \n",
    "        predict.append(n[-1].copy()) \n",
    "    return predict"
   ]
  },
  {
   "cell_type": "markdown",
   "id": "74aa0d78",
   "metadata": {},
   "source": [
    "##### Import library"
   ]
  },
  {
   "cell_type": "code",
   "execution_count": 6,
   "id": "75dd8be4",
   "metadata": {
    "scrolled": false
   },
   "outputs": [],
   "source": [
    "# !pip install neurolab"
   ]
  },
  {
   "cell_type": "code",
   "execution_count": 7,
   "id": "d1a821e9",
   "metadata": {},
   "outputs": [],
   "source": [
    "from sklearn import datasets\n",
    "from sklearn.model_selection import train_test_split\n",
    "from sklearn.preprocessing import minmax_scale\n",
    "from sklearn.metrics import accuracy_score\n",
    "import numpy as np"
   ]
  },
  {
   "cell_type": "markdown",
   "id": "c2873dc9",
   "metadata": {},
   "source": [
    "##### Load data, pisahkan data dan label. Konversi label dengan one-hot encoding"
   ]
  },
  {
   "cell_type": "code",
   "execution_count": 8,
   "id": "989757e5",
   "metadata": {},
   "outputs": [],
   "source": [
    "iris = datasets.load_iris()\n",
    "X = minmax_scale(iris.data)\n",
    "Y = onehot_enc(iris.target)"
   ]
  },
  {
   "cell_type": "markdown",
   "id": "30385278",
   "metadata": {},
   "source": [
    "##### Preprocess data: membagi data training, label training dan data testing, label testing (biasanya 2/3 data training, 1/3 data testing)"
   ]
  },
  {
   "cell_type": "code",
   "execution_count": 9,
   "id": "22f16964",
   "metadata": {},
   "outputs": [],
   "source": [
    "X_train, X_test, y_train, y_test = train_test_split(X,Y,test_size=.3)"
   ]
  },
  {
   "cell_type": "markdown",
   "id": "e5dd5238",
   "metadata": {},
   "source": [
    "##### Arsitektur jaringan\n",
    "Input: 4 atribut, output: [iris setosa/iris versicolor/iris virginica] atau dengan one-hot encoding menjadi kelas [1 0 0], [0 1 0], [0 0 1]\n",
    "Back-propagation dengan 1 hidden layer. Hidden layer mempergunakan 4 neuron (bisa divariasi). Oleh karena itu arsitektur jaringan berbentuk:\n",
    "4 – 4 – 3 (4 neuron input – 4 neuron di hidden layer – 3 neuron output)"
   ]
  },
  {
   "cell_type": "markdown",
   "id": "b101e963",
   "metadata": {},
   "source": [
    "##### Membentuk model JST menggunakan data training dan label training"
   ]
  },
  {
   "cell_type": "code",
   "execution_count": 10,
   "id": "b7377b2e",
   "metadata": {},
   "outputs": [
    {
     "name": "stdout",
     "output_type": "stream",
     "text": [
      "Epochs: 1, MSE: 0.9456097492821648\n"
     ]
    },
    {
     "name": "stderr",
     "output_type": "stream",
     "text": [
      "C:\\Users\\user\\AppData\\Local\\Packages\\PythonSoftwareFoundation.Python.3.7_qbz5n2kfra8p0\\LocalCache\\local-packages\\Python37\\site-packages\\ipykernel_launcher.py:7: VisibleDeprecationWarning: Creating an ndarray from ragged nested sequences (which is a list-or-tuple of lists-or-tuples-or ndarrays with different lengths or shapes) is deprecated. If you meant to do this, you must specify 'dtype=object' when creating the ndarray.\n",
      "  import sys\n",
      "C:\\Users\\user\\AppData\\Local\\Packages\\PythonSoftwareFoundation.Python.3.7_qbz5n2kfra8p0\\LocalCache\\local-packages\\Python37\\site-packages\\ipykernel_launcher.py:36: VisibleDeprecationWarning: Creating an ndarray from ragged nested sequences (which is a list-or-tuple of lists-or-tuples-or ndarrays with different lengths or shapes) is deprecated. If you meant to do this, you must specify 'dtype=object' when creating the ndarray.\n"
     ]
    }
   ],
   "source": [
    "w, ep, mse = bp_fit(X_train, y_train, layer_conf=(4,3,3), learn_rate=.1, max_epoch=1000, max_error=.1, print_per_epoch=25)\n",
    "print(f'Epochs: {ep}, MSE: {mse}')"
   ]
  },
  {
   "cell_type": "markdown",
   "id": "1aee44df",
   "metadata": {},
   "source": [
    "##### Menguji model"
   ]
  },
  {
   "cell_type": "code",
   "execution_count": 11,
   "id": "ca9db268",
   "metadata": {},
   "outputs": [],
   "source": [
    "predict = bp_predict(X_test, w)\n",
    "predict = onehot_dec(predict)"
   ]
  },
  {
   "cell_type": "markdown",
   "id": "1c38141a",
   "metadata": {},
   "source": [
    "##### Membandingkan luaran dengan target"
   ]
  },
  {
   "cell_type": "code",
   "execution_count": 12,
   "id": "97da8cca",
   "metadata": {},
   "outputs": [
    {
     "name": "stdout",
     "output_type": "stream",
     "text": [
      "Output: [1, 1, 1, 1, 1, 1, 1, 1, 1, 1, 1, 1, 1, 1, 1, 1, 1, 1, 1, 1, 1, 1, 1, 1, 1, 1, 1, 1, 1, 1, 1, 1, 1, 1, 1, 1, 1, 1, 1, 1, 1, 1, 1, 1, 1]\n",
      "True: [2, 2, 2, 0, 1, 0, 0, 1, 2, 0, 0, 1, 0, 1, 1, 2, 2, 1, 2, 2, 0, 2, 0, 1, 2, 0, 0, 2, 2, 2, 1, 1, 1, 2, 1, 2, 0, 1, 1, 0, 0, 0, 2, 0, 1]\n",
      "Accuracy: 0.3111111111111111\n"
     ]
    }
   ],
   "source": [
    "y_test = onehot_dec(y_test)\n",
    "acc = accuracy_score(predict, y_test)\n",
    "print(f'Output: {predict}')\n",
    "print(f'True: {y_test}')\n",
    "print(f'Accuracy: {acc}')"
   ]
  },
  {
   "cell_type": "markdown",
   "id": "fcd5295e",
   "metadata": {},
   "source": [
    "##### Prediksi, identifikasi, klasifikasi data baru (tunggal)"
   ]
  },
  {
   "cell_type": "code",
   "execution_count": 13,
   "id": "db0e3cfc",
   "metadata": {},
   "outputs": [],
   "source": [
    "irisBaru=[6.7, 3.3, 5.7 ,2.5]\n",
    "identitas=bp_predict(irisBaru, w)\n",
    "identitas=onehot_dec(identitas)"
   ]
  },
  {
   "cell_type": "markdown",
   "id": "5cc63ca7",
   "metadata": {},
   "source": [
    "##### Menemukan model yang optimal:\n",
    "Variasi jumlah neuron dalam hidden layer (10, 15, 20, 25, 30…) untuk menemukan akurasi tertinggi\n",
    "− Normalisasi data (minmax, z-score)"
   ]
  }
 ],
 "metadata": {
  "kernelspec": {
   "display_name": "Python 3 (ipykernel)",
   "language": "python",
   "name": "python3"
  },
  "language_info": {
   "codemirror_mode": {
    "name": "ipython",
    "version": 3
   },
   "file_extension": ".py",
   "mimetype": "text/x-python",
   "name": "python",
   "nbconvert_exporter": "python",
   "pygments_lexer": "ipython3",
   "version": "3.7.9"
  }
 },
 "nbformat": 4,
 "nbformat_minor": 5
}
